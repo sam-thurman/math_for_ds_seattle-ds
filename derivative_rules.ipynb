{
 "cells": [
  {
   "cell_type": "markdown",
   "metadata": {},
   "source": [
    "# Derivative Rules\n",
    "\n",
    "Here is a list of rules for some common derivative patterns.\n",
    "\n",
    "$\\huge\\frac{d}{dx}[cf(x)] = cf'(x)$\n",
    "\n",
    "$\\huge\\frac{d}{dx}[x^n] = nx^{n - 1}$\n",
    "\n",
    "$\\huge\\frac{d}{dx}[sin(x)] = cos(x)$\n",
    "\n",
    "$\\huge\\frac{d}{dx}[cos(x)] = -sin(x)$\n",
    "\n",
    "$\\huge\\frac{d}{dx}[a^x] = a^xln(a)$\n",
    "\n",
    "$\\huge\\frac{d}{dx}[log_bx)] = \\frac{1}{xln(b)}$\n",
    "\n",
    "$\\huge\\frac{d}{dx}[f(x) + g(x)] = f'(x) + g'(x)$\n",
    "\n",
    "$\\huge\\frac{d}{dx}[f(x)g(x)] = f(x)g'(x) + g(x)f'(x)$\n",
    "\n",
    "$\\huge\\frac{d}{dx}\\left[\\frac{f(x)}{(g(x)}\\right] = \\frac{g(x)f'(x) - f(x)g'(x))}{(g(x))^2}$"
   ]
  },
  {
   "cell_type": "code",
   "execution_count": null,
   "metadata": {},
   "outputs": [],
   "source": []
  }
 ],
 "metadata": {
  "kernelspec": {
   "display_name": "Python 3",
   "language": "python",
   "name": "python3"
  },
  "language_info": {
   "codemirror_mode": {
    "name": "ipython",
    "version": 3
   },
   "file_extension": ".py",
   "mimetype": "text/x-python",
   "name": "python",
   "nbconvert_exporter": "python",
   "pygments_lexer": "ipython3",
   "version": "3.6.9"
  }
 },
 "nbformat": 4,
 "nbformat_minor": 4
}
